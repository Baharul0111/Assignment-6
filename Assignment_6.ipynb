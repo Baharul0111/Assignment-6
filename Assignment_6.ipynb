{
 "cells": [
  {
   "cell_type": "code",
   "execution_count": 1,
   "id": "37ef6a99",
   "metadata": {},
   "outputs": [
    {
     "name": "stdout",
     "output_type": "stream",
     "text": [
      "Enter tour percentage97\n",
      "Grade A\n"
     ]
    }
   ],
   "source": [
    "#question 1\n",
    "percentage = int(input(\"Enter tour percentage\"))\n",
    "if percentage>90:\n",
    "    print(\"Grade A\")\n",
    "elif percentage>80 and percentage<=90:\n",
    "    print(\"Grade B\")\n",
    "elif percentage>=60 and percentage<=80:\n",
    "    print(\"Grade C\")\n",
    "else:\n",
    "    print(\"Grade D\")"
   ]
  },
  {
   "cell_type": "code",
   "execution_count": 2,
   "id": "2d04e1a1",
   "metadata": {},
   "outputs": [
    {
     "name": "stdout",
     "output_type": "stream",
     "text": [
      "Enter your bike cost60000\n",
      "10% tax\n"
     ]
    }
   ],
   "source": [
    "#question 2\n",
    "bike_cost = int(input(\"Enter your bike cost\"))\n",
    "if bike_cost>100000:\n",
    "    print(\"15% tax\")\n",
    "elif bike_cost>50000 and bike_cost<=100000:\n",
    "    print(\"10% tax\")\n",
    "else:\n",
    "    print(\"5% tax\")"
   ]
  },
  {
   "cell_type": "code",
   "execution_count": 3,
   "id": "0f86fdaf",
   "metadata": {},
   "outputs": [
    {
     "name": "stdout",
     "output_type": "stream",
     "text": [
      "Enter cityAgra\n",
      "Taj Mahal\n"
     ]
    }
   ],
   "source": [
    "#question 3\n",
    "city= input(\"Enter city\")\n",
    "if city ==\"Delhi\":\n",
    "    print(\"Red Fort\")\n",
    "elif city==\"Agra\":\n",
    "    print(\"Taj Mahal\")\n",
    "elif city==\"Jaipur\":\n",
    "    print(\"Jal Mahal\")"
   ]
  },
  {
   "cell_type": "code",
   "execution_count": 4,
   "id": "17c2446b",
   "metadata": {},
   "outputs": [
    {
     "name": "stdout",
     "output_type": "stream",
     "text": [
      "Enter a number123\n",
      "The number can be divided by 3 before less than 10  3 times\n"
     ]
    }
   ],
   "source": [
    "#question 4\n",
    "num= int(input(\"Enter a number\"))\n",
    "count=0\n",
    "while num>10:\n",
    "    num=num//3\n",
    "    count+=1\n",
    "print(\"The number can be divided by 3 before less than 10 \", count, \"times\")"
   ]
  },
  {
   "cell_type": "code",
   "execution_count": 5,
   "id": "9a3daa5a",
   "metadata": {},
   "outputs": [
    {
     "name": "stdout",
     "output_type": "stream",
     "text": [
      "1\n",
      "2\n",
      "3\n",
      "4\n",
      "5\n"
     ]
    }
   ],
   "source": [
    "#question 5\n",
    "'''\n",
    "A while loop in Python is used to repeatedly execute a block of code as long as a certain condition is true. It is particularly useful when you want to perform a task multiple times without knowing the exact number of iterations in advance.'''\n",
    "#example:-\n",
    "counter = 1\n",
    "while counter <= 5:\n",
    "    print(counter)\n",
    "    counter += 1"
   ]
  },
  {
   "cell_type": "code",
   "execution_count": 8,
   "id": "b38ebe4b",
   "metadata": {},
   "outputs": [
    {
     "name": "stdout",
     "output_type": "stream",
     "text": [
      "Pattern 1\n",
      "\n",
      "*  \n",
      "*  *  \n",
      "*  *  *  \n",
      "*  *  *  *  \n",
      "\n",
      "Pattern 2\n",
      "*  *  *  *  *  *  \n",
      "*  *  *  *  *  \n",
      "*  *  *  *  \n",
      "*  *  *  \n",
      "*  *  \n",
      "*  \n",
      "\n",
      "Pattern 3\n",
      "                  \n",
      "                *  \n",
      "              *  *  \n",
      "            *  *  *  \n",
      "          *  *  *  *  \n",
      "        *  *  *  *  *  \n",
      "      *  *  *  *  *  *  \n",
      "    *  *  *  *  *  *  *  \n",
      "  *  *  *  *  *  *  *  *  \n",
      "*  *  *  *  *  *  *  *  *  \n"
     ]
    }
   ],
   "source": [
    "#question 6\n",
    "print(\"Pattern 1\")\n",
    "i=0\n",
    "while i<5:\n",
    "    j=0\n",
    "    while j<i:\n",
    "        print(\"* \", end=\" \")\n",
    "        j+=1\n",
    "    print()\n",
    "    i+=1\n",
    "\n",
    "print()\n",
    "print(\"Pattern 2\")\n",
    "i=0\n",
    "while i<6:\n",
    "    j=6\n",
    "    while j>i :\n",
    "        print(\"* \", end=\" \")\n",
    "        j-=1\n",
    "    print()\n",
    "    i+=1\n",
    "print()\n",
    "print(\"Pattern 3\")\n",
    "i = 0\n",
    "while i < 10:\n",
    "    j = 10\n",
    "    while j > i + 1:\n",
    "        print(\" \", end=\" \")\n",
    "        j -= 1\n",
    "    j = 0\n",
    "    while j < i:\n",
    "        print(\"* \", end=\" \")\n",
    "        j += 1\n",
    "\n",
    "    print()\n",
    "    i += 1\n"
   ]
  },
  {
   "cell_type": "code",
   "execution_count": 9,
   "id": "f01bc525",
   "metadata": {},
   "outputs": [
    {
     "name": "stdout",
     "output_type": "stream",
     "text": [
      "10\n",
      "9\n",
      "8\n",
      "7\n",
      "6\n",
      "5\n",
      "4\n",
      "3\n",
      "2\n",
      "1\n"
     ]
    }
   ],
   "source": [
    "#question 7\n",
    "num=10\n",
    "while num>0:\n",
    "    print(num)\n",
    "    num-=1"
   ]
  },
  {
   "cell_type": "code",
   "execution_count": 10,
   "id": "6e9bc8fc",
   "metadata": {},
   "outputs": [
    {
     "name": "stdout",
     "output_type": "stream",
     "text": [
      "10\n",
      "9\n",
      "8\n",
      "7\n",
      "6\n",
      "5\n",
      "4\n",
      "3\n",
      "2\n",
      "1\n"
     ]
    }
   ],
   "source": [
    "#question 8\n",
    "num=10\n",
    "while num>0:\n",
    "    print(num)\n",
    "    num-=1"
   ]
  },
  {
   "cell_type": "code",
   "execution_count": null,
   "id": "aaf86f0c",
   "metadata": {},
   "outputs": [],
   "source": []
  }
 ],
 "metadata": {
  "kernelspec": {
   "display_name": "Python 3 (ipykernel)",
   "language": "python",
   "name": "python3"
  },
  "language_info": {
   "codemirror_mode": {
    "name": "ipython",
    "version": 3
   },
   "file_extension": ".py",
   "mimetype": "text/x-python",
   "name": "python",
   "nbconvert_exporter": "python",
   "pygments_lexer": "ipython3",
   "version": "3.11.5"
  }
 },
 "nbformat": 4,
 "nbformat_minor": 5
}
